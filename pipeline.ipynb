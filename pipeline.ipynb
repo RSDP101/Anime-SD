{
 "cells": [
  {
   "cell_type": "code",
   "execution_count": null,
   "metadata": {},
   "outputs": [],
   "source": [
    "cd examples/text_to_image/"
   ]
  },
  {
   "cell_type": "code",
   "execution_count": null,
   "metadata": {},
   "outputs": [],
   "source": [
    "pip install git+https://github.com/huggingface/diffusers.git"
   ]
  },
  {
   "cell_type": "code",
   "execution_count": null,
   "metadata": {},
   "outputs": [],
   "source": [
    "pip install -U -r requirements.txt\n"
   ]
  },
  {
   "cell_type": "code",
   "execution_count": null,
   "metadata": {},
   "outputs": [],
   "source": [
    "!accelerate config default"
   ]
  },
  {
   "cell_type": "code",
   "execution_count": null,
   "metadata": {},
   "outputs": [],
   "source": [
    "#This works \n",
    "\n",
    "import os\n",
    "models_list = [\n",
    "    \"stabilityai/stable-diffusion-xl-base-1.0\",\n",
    "    \"CompVis/stable-diffusion-v1-4\",\n",
    "    \"stablediffusionapi/anything-v5\",\n",
    "    \"waifu-diffusion v1.4\"\n",
    "\n",
    "\n",
    "]\n",
    "\n",
    "# Set environment variables\n",
    "os.environ['MODEL_NAME'] = \"CompVis/stable-diffusion-v1-4\"\n",
    "os.environ['DATASET_NAME'] = \"rod101/Anime1K\"\n",
    "\n",
    "\n",
    "!accelerate launch train_text_to_image.py \\\n",
    "  --pretrained_model_name_or_path=$MODEL_NAME \\\n",
    "  --dataset_name=$DATASET_NAME \\\n",
    "  --use_ema \\\n",
    "  --resolution=512 --center_crop --random_flip \\\n",
    "  --train_batch_size=1 \\\n",
    "  --gradient_accumulation_steps=4 \\\n",
    "  --gradient_checkpointing \\\n",
    "  --mixed_precision=\"fp16\" \\\n",
    "  --max_train_steps=200 \\\n",
    "  --learning_rate=1e-05 \\\n",
    "  --max_grad_norm=1 \\\n",
    "  --lr_scheduler=\"constant\" --lr_warmup_steps=0 \\\n",
    "  --output_dir=\"sdxl-anime-model\"\n"
   ]
  },
  {
   "cell_type": "code",
   "execution_count": null,
   "metadata": {},
   "outputs": [],
   "source": [
    "# INFERENCE\n",
    "\n",
    "import torch\n",
    "from diffusers import StableDiffusionPipeline\n",
    "import matplotlib.pyplot as plt\n",
    "from PIL import Image\n",
    "\n",
    "# Load the fine-tuned model\n",
    "model_path = \"sdxl-anime-model\"\n",
    "pipe = StableDiffusionPipeline.from_pretrained(model_path, torch_dtype=torch.float16).to(\"cuda\")\n",
    "pipe.safety_checker = None\n",
    "# Run inference\n",
    "prompt = \"a man with dark hair and brown eyes mask\"\n",
    "num_images = 1\n",
    "\n",
    "with torch.autocast(\"cuda\"):\n",
    "    images = pipe(prompt, num_images_per_prompt=num_images).images\n",
    "\n",
    "# Display the generated images\n",
    "\n",
    "\n",
    "for img in images:\n",
    "    plt.figure(figsize=(5,5))\n",
    "    plt.imshow(img)\n",
    "    plt.axis('off')  # Hide axes\n",
    "    plt.show()\n"
   ]
  }
 ],
 "metadata": {
  "language_info": {
   "name": "python"
  }
 },
 "nbformat": 4,
 "nbformat_minor": 2
}
