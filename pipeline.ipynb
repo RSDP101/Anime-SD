{
 "cells": [
  {
   "cell_type": "code",
   "execution_count": null,
   "metadata": {},
   "outputs": [],
   "source": [
    "cd examples/text_to_image/"
   ]
  },
  {
   "cell_type": "code",
   "execution_count": null,
   "metadata": {},
   "outputs": [],
   "source": [
    "pip install git+https://github.com/huggingface/diffusers.git"
   ]
  },
  {
   "cell_type": "code",
   "execution_count": null,
   "metadata": {},
   "outputs": [],
   "source": [
    "pip install -U -r requirements.txt\n"
   ]
  },
  {
   "cell_type": "code",
   "execution_count": null,
   "metadata": {},
   "outputs": [],
   "source": [
    "!accelerate config default"
   ]
  },
  {
   "cell_type": "code",
   "execution_count": null,
   "metadata": {},
   "outputs": [],
   "source": [
    "!huggingface-cli login\n"
   ]
  },
  {
   "cell_type": "code",
   "execution_count": null,
   "metadata": {},
   "outputs": [],
   "source": [
    "from datasets import load_dataset\n",
    "\n",
    "# Load the dataset with streaming\n",
    "dataset = load_dataset('latentcat/animesfw', split='train', streaming=True)\n",
    "\n",
    "# Iterate through the first 100 rows\n",
    "first_100_rows = []\n",
    "for i, row in enumerate(dataset):\n",
    "    if i < 100:\n",
    "        first_100_rows.append(row)\n",
    "    else:\n",
    "        break\n",
    "\n",
    "# Check the number of rows collected\n",
    "print(f\"Number of rows collected: {len(first_100_rows)}\")\n",
    "\n",
    "for i, row in enumerate(first_100_rows):\n",
    "    print(f\"Row {i}: {row}\")\n"
   ]
  },
  {
   "cell_type": "code",
   "execution_count": null,
   "metadata": {},
   "outputs": [],
   "source": [
    "import matplotlib.pyplot as plt\n",
    "from PIL import Image\n",
    "\n",
    "# Extract the image from the row\n",
    "print (first_100_rows[12]['tags'])\n",
    "\n",
    "image = first_100_rows[12]['image']\n",
    "\n",
    "# Display the image using matplotlib\n",
    "plt.figure(figsize=(5,5))\n",
    "plt.imshow(image)\n",
    "plt.axis('off')  # Hide axes\n",
    "plt.show()\n"
   ]
  },
  {
   "cell_type": "code",
   "execution_count": null,
   "metadata": {},
   "outputs": [],
   "source": [
    "\n",
    "import json\n",
    "import os\n",
    "from PIL import Image\n",
    "\n",
    "# Directory to save images\n",
    "image_dir = 'images'\n",
    "os.makedirs(image_dir, exist_ok=True)\n",
    "\n",
    "# List to hold data\n",
    "data = []\n",
    "\n",
    "# Save each image and store its file path\n",
    "for i, row in enumerate(first_100_rows):\n",
    "    image = row['image']\n",
    "    image_path = os.path.join(image_dir, f'image_{i}.jpg')\n",
    "    image.save(image_path)\n",
    "    # Add file path and tags to the data list\n",
    "    data.append({\n",
    "        'image': image_path,\n",
    "        'text': row['tags']\n",
    "    })\n",
    "\n",
    "# Save the metadata to a JSON file\n",
    "with open('first_100_rows.json', 'w') as f:\n",
    "    json.dump(data, f)\n"
   ]
  },
  {
   "cell_type": "code",
   "execution_count": null,
   "metadata": {},
   "outputs": [],
   "source": [
    "import os\n",
    "\n",
    "# Set environment variables\n",
    "os.environ['MODEL_NAME'] = \"CompVis/stable-diffusion-v1-4\"\n",
    "os.environ['DATASET_NAME'] = \"first_100_rows.json\"\n",
    "\n",
    "\n",
    "!accelerate launch train_text_to_image.py \\\n",
    "  --pretrained_model_name_or_path=$MODEL_NAME \\\n",
    "  --dataset_name=$DATASET_NAME \\\n",
    "  --use_ema \\\n",
    "  --resolution=512 --center_crop --random_flip \\\n",
    "  --train_batch_size=1 \\\n",
    "  --gradient_accumulation_steps=4 \\\n",
    "  --gradient_checkpointing \\\n",
    "  --mixed_precision=\"fp16\" \\\n",
    "  --max_train_steps=15000 \\\n",
    "  --learning_rate=1e-05 \\\n",
    "  --max_grad_norm=1 \\\n",
    "  --lr_scheduler=\"constant\" --lr_warmup_steps=0 \\\n",
    "  --output_dir=\"sd-pokemon-model\"\n"
   ]
  },
  {
   "cell_type": "code",
   "execution_count": null,
   "metadata": {},
   "outputs": [],
   "source": [
    "! MODEL_NAME=\"CompVis/stable-diffusion-v1-4\"\n",
    "! export dataset_name=\"lambdalabs/naruto-blip-captions\"\n",
    "\n",
    "!accelerate launch train_text_to_image.py \\\n",
    "  --pretrained_model_name_or_path=$MODEL_NAME \\\n",
    "  --dataset_name=$dataset_name \\\n",
    "  --use_ema \\\n",
    "  --resolution=512 --center_crop --random_flip \\\n",
    "  --train_batch_size=1 \\\n",
    "  --gradient_accumulation_steps=4 \\\n",
    "  --gradient_checkpointing \\\n",
    "  --mixed_precision=\"fp16\" \\\n",
    "  --max_train_steps=100 \\\n",
    "  --learning_rate=1e-05 \\\n",
    "  --max_grad_norm=1 \\\n",
    "  --lr_scheduler=\"constant\" --lr_warmup_steps=0 \\\n",
    "  --output_dir=\"sd-pokemon-model\"\n"
   ]
  },
  {
   "cell_type": "code",
   "execution_count": null,
   "metadata": {},
   "outputs": [],
   "source": [
    "import torch\n",
    "from diffusers import StableDiffusionPipeline\n",
    "import matplotlib.pyplot as plt\n",
    "from PIL import Image\n",
    "\n",
    "# Load the fine-tuned model\n",
    "model_path = \"sd-pokemon-model\"\n",
    "pipe = StableDiffusionPipeline.from_pretrained(model_path, torch_dtype=torch.float16).to(\"cuda\")\n",
    "pipe.safety_checker = None\n",
    "# Run inference\n",
    "prompt = \"a man with dark hair and brown eyes mask\"\n",
    "num_images = 1\n",
    "\n",
    "with torch.autocast(\"cuda\"):\n",
    "    images = pipe(prompt, num_images_per_prompt=num_images).images\n",
    "\n",
    "# Display the generated images\n",
    "\n",
    "\n",
    "for img in images:\n",
    "    plt.figure(figsize=(5,5))\n",
    "    plt.imshow(img)\n",
    "    plt.axis('off')  # Hide axes\n",
    "    plt.show()\n"
   ]
  },
  {
   "cell_type": "code",
   "execution_count": null,
   "metadata": {},
   "outputs": [],
   "source": [
    "import torch\n",
    "from diffusers import StableDiffusionPipeline\n",
    "import matplotlib.pyplot as plt\n",
    "from PIL import Image\n",
    "\n",
    "# Load the fine-tuned model\n",
    "model_path = \"CompVis/stable-diffusion-v1-4\"\n",
    "pipe = StableDiffusionPipeline.from_pretrained(model_path, torch_dtype=torch.float16).to(\"cuda\")\n",
    "# Run inference\n",
    "prompt = \" man with dark hair and brown eyes mask\"\n",
    "num_images = 1\n",
    "\n",
    "with torch.autocast(\"cuda\"):\n",
    "    images = pipe(prompt, num_images_per_prompt=num_images).images\n",
    "\n",
    "# Display the generated images\n",
    "\n",
    "\n",
    "for img in images:\n",
    "    plt.figure(figsize=(5,5))\n",
    "    plt.imshow(img)\n",
    "    plt.axis('off')  # Hide axes\n",
    "    plt.show()\n"
   ]
  }
 ],
 "metadata": {
  "language_info": {
   "name": "python"
  }
 },
 "nbformat": 4,
 "nbformat_minor": 2
}
